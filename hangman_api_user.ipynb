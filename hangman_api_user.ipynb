{
 "cells": [
  {
   "cell_type": "code",
   "execution_count": 1,
   "metadata": {
    "jupyter": {
     "outputs_hidden": true
    },
    "scrolled": true
   },
   "outputs": [],
   "source": [
    "import json\n",
    "import requests\n",
    "import random\n",
    "import string\n",
    "import secrets\n",
    "import time\n",
    "import re\n",
    "import collections\n",
    "\n",
    "try:\n",
    "    from urllib.parse import parse_qs, urlencode, urlparse\n",
    "except ImportError:\n",
    "    from urlparse import parse_qs, urlparse\n",
    "    from urllib import urlencode\n",
    "\n",
    "from requests.packages.urllib3.exceptions import InsecureRequestWarning\n",
    "\n",
    "requests.packages.urllib3.disable_warnings(InsecureRequestWarning)"
   ]
  },
  {
   "cell_type": "code",
   "execution_count": 2,
   "metadata": {},
   "outputs": [
    {
     "name": "stdout",
     "output_type": "stream",
     "text": [
      "Using device: cpu\n",
      "Model loaded: True\n"
     ]
    }
   ],
   "source": [
    "import torch\n",
    "import numpy as np\n",
    "import random\n",
    "import torch.nn as nn\n",
    "from tqdm import tqdm\n",
    "random.seed(5)\n",
    "\n",
    "device = torch.device(\"cuda\" if torch.cuda.is_available() else \"cpu\")\n",
    "print(f\"Using device: {device}\")\n",
    "\n",
    "PADDING_CHAR = 0\n",
    "UNGUESS_CHAR = 27\n",
    "EMBEDDING_DIM = 128\n",
    "MAX_LENGTH = 25  # Maximum word length\n",
    "EPOCHS = 10\n",
    "EMBEDDING_SIZE = 128\n",
    "\n",
    "class HangmanModel(nn.Module):\n",
    "    def __init__(self):\n",
    "        super(HangmanModel, self).__init__()\n",
    "        self.embedding = nn.Embedding(num_embeddings=28, embedding_dim=EMBEDDING_SIZE, padding_idx=0)\n",
    "        self.bilstm = nn.LSTM(input_size=EMBEDDING_SIZE, hidden_size=256, num_layers=4, dropout=0.01, batch_first=True, bidirectional=True)\n",
    "        self.fcbilstm = nn.Sequential(\n",
    "            nn.Linear(256 * 2, 64),\n",
    "            nn.ReLU(),\n",
    "            nn.Dropout(0.01)\n",
    "        )\n",
    "        self.flags_dense = nn.Sequential(\n",
    "            nn.Linear(26, 32),\n",
    "            nn.ReLU(),\n",
    "            nn.Dropout(0.01)\n",
    "        )\n",
    "        self.combined_dense = nn.Sequential(\n",
    "            nn.Linear(64 + 32, 26)\n",
    "        )\n",
    "\n",
    "    def forward(self, word, flags):\n",
    "        embedded = self.embedding(word)\n",
    "        bilstm_out, _ = self.bilstm(embedded)\n",
    "        lastbilstm_out = bilstm_out[:, -1, :]\n",
    "        bilstm_fcout = self.fcbilstm(lastbilstm_out)\n",
    "        flags_out = self.flags_dense(flags)\n",
    "\n",
    "        \n",
    "        combined = torch.cat((bilstm_fcout, flags_out), dim=1)\n",
    "        return self.combined_dense(combined)\n",
    "    \n",
    "model = HangmanModel()\n",
    "model.load_state_dict(torch.load(\"model_BiLSTM3.pth\", weights_only=True, map_location=torch.device('cpu'))) # chose model generated after 3rd epoch as later iterations were overfitted\n",
    "\n",
    "class HangmanPredictor:\n",
    "    def __init__(self, model):\n",
    "        \"\"\"Initialize the predictor with a trained PyTorch model.\"\"\"\n",
    "        self.model = model\n",
    "        print(f\"Model loaded: {self.model is not None}\")\n",
    "        self.model.eval()  # Set to evaluation mode\n",
    "        self.max_length = 25\n",
    "        self.pad_idx = 0\n",
    "        \n",
    "        # Create letter to index mapping\n",
    "        self.letter_to_idx_map = {'_': 27}\n",
    "        self.letter_to_idx_map.update({chr(i): i-96 for i in range(97, 123)})\n",
    "\n",
    "    def letter_to_idx(self, letter):\n",
    "        \"\"\"Convert a letter to its corresponding index.\"\"\"\n",
    "        return self.letter_to_idx_map.get(letter.lower(), self.pad_idx)\n",
    "\n",
    "    def convert_to_one_hot(self, guessed_letters):\n",
    "        \"\"\"Convert guessed letters to one-hot encoding.\"\"\"\n",
    "        guessed_vector = [0] * 26\n",
    "        for letter in guessed_letters:\n",
    "            if isinstance(letter, int) and 0 <= letter < 26:\n",
    "                guessed_vector[letter] = 1\n",
    "        return guessed_vector\n",
    "\n",
    "    def pad_sequence(self, sequence):\n",
    "        \"\"\"\n",
    "        Pad or truncate a sequence to a fixed length.\n",
    "        \n",
    "        Args:\n",
    "            sequence (list): The sequence to pad (list of characters).\n",
    "        \n",
    "        Returns:\n",
    "            torch.Tensor: The padded sequence.\n",
    "        \"\"\"\n",
    "        # Convert letters to indices\n",
    "        numeric_sequence = [self.letter_to_idx(char) for char in sequence]\n",
    "        \n",
    "        # Pad or truncate sequence\n",
    "        if len(numeric_sequence) < self.max_length:\n",
    "            numeric_sequence.extend([self.pad_idx] * (self.max_length - len(numeric_sequence)))\n",
    "        else:\n",
    "            numeric_sequence = numeric_sequence[:self.max_length]\n",
    "        \n",
    "        return torch.tensor(numeric_sequence, dtype=torch.long).to(device)\n",
    "\n",
    "    def guess_next_letter(self, word, guessed_letters):\n",
    "       \n",
    "        # Clean and prepare the word\n",
    "        clean_word = word.replace(\" \", \"\")\n",
    "        numeric_word = self.pad_sequence(list(clean_word)).unsqueeze(0)  # Add batch dimension\n",
    "        flags = torch.tensor([[0] * 26], dtype=torch.float32)\n",
    "        for idx in guessed_letters:\n",
    "            flags[0,idx] = 1\n",
    "        # print(f\"Input shape: {numeric_word.shape}\")\n",
    "        # Get model predictions\n",
    "        with torch.no_grad():\n",
    "            predictions = self.model(numeric_word, flags).cpu().numpy()[0]\n",
    "        \n",
    "        # Create mask for already guessed letters\n",
    "        mask = np.ones(len(predictions), dtype=bool)\n",
    "        for idx in guessed_letters:\n",
    "            if 0 <= idx < 26:\n",
    "                mask[idx] = False\n",
    "        \n",
    "        # Find the highest probability unguessed letter\n",
    "        max_index = np.argmax(np.where(mask, predictions, -np.inf))\n",
    "        predicted_letter = chr(max_index + 97)\n",
    "        \n",
    "        return predicted_letter\n",
    "\n",
    "    def simulate_game(self, word):\n",
    "        \"\"\"\n",
    "        Simulate a game of Hangman for the given word.\n",
    "        \n",
    "        Args:\n",
    "            word (str): The word to guess\n",
    "            \n",
    "        Returns:\n",
    "            bool: True if the word was guessed successfully, False otherwise\n",
    "        \"\"\"\n",
    "        pattern = \"_ \" * len(word)\n",
    "        word_set = set(word.lower())\n",
    "        all_guesses = set()  # Will store indices (0-25)\n",
    "        incorrect_guesses = set()\n",
    "        lives = 6\n",
    "        correct_guesses = set()\n",
    "\n",
    "        while \"_\" in pattern and lives > 0:\n",
    "            guess = self.guess_next_letter(pattern, all_guesses)\n",
    "            guess_idx = ord(guess) - 97\n",
    "\n",
    "            if guess_idx in all_guesses:\n",
    "                lives -= 1\n",
    "            else:\n",
    "                all_guesses.add(guess_idx)\n",
    "\n",
    "                if guess in word_set:\n",
    "                    correct_guesses.add(guess)\n",
    "                    pattern = \"\".join([char + ' ' if char in correct_guesses else \"_ \" for char in word.lower()])\n",
    "                else:\n",
    "                    incorrect_guesses.add(guess)\n",
    "                    lives -= 1\n",
    "\n",
    "        return \"_\" not in pattern\n",
    "\n",
    "    def sim_test(self, word_list):\n",
    "        \"\"\"\n",
    "        Test the model on a list of words and return the success rate.\n",
    "        \n",
    "        Args:\n",
    "            word_list (list): List of words to test\n",
    "            \n",
    "        Returns:\n",
    "            float: Success rate (0-1)\n",
    "        \"\"\"\n",
    "        success_rate = []\n",
    "        for word in tqdm(word_list, desc=\"Simulating games\"):\n",
    "            success = self.simulate_game(word)\n",
    "            success_rate.append(success)\n",
    "        return np.count_nonzero(success_rate)/len(word_list)\n",
    "\n",
    "\n",
    "# Example usage:\n",
    "predictor = HangmanPredictor(model)  # Use your PyTorch model path\n",
    "with open(\"cleaned_word_list.txt\", \"r\") as file:  # Replace word list with your own\n",
    "    word_list = file.read().splitlines()\n",
    "\n",
    "# success = predictor.sim_test(word_list[57000:58000])\n",
    "# print(f\"Success rate: {success:.2f}\")\n"
   ]
  },
  {
   "cell_type": "code",
   "execution_count": null,
   "metadata": {},
   "outputs": [],
   "source": []
  },
  {
   "cell_type": "code",
   "execution_count": null,
   "metadata": {},
   "outputs": [],
   "source": []
  },
  {
   "cell_type": "code",
   "execution_count": null,
   "metadata": {},
   "outputs": [],
   "source": []
  },
  {
   "cell_type": "code",
   "execution_count": 3,
   "metadata": {
    "jupyter": {
     "outputs_hidden": true
    }
   },
   "outputs": [],
   "source": [
    "class HangmanAPI(object):\n",
    "    def __init__(self, access_token=None, session=None, timeout=None):\n",
    "        self.hangman_url = self.determine_hangman_url()\n",
    "        self.access_token = access_token\n",
    "        self.session = session or requests.Session()\n",
    "        self.timeout = timeout\n",
    "        self.guessed_letters = set()\n",
    "        \n",
    "    \n",
    "    @staticmethod\n",
    "    def determine_hangman_url():\n",
    "        links = []                          #links for api call\n",
    "\n",
    "        data = {link: 0 for link in links}\n",
    "\n",
    "        for link in links:\n",
    "\n",
    "            requests.get(link)\n",
    "\n",
    "            for i in range(10):\n",
    "                s = time.time()\n",
    "                requests.get(link)\n",
    "                data[link] = time.time() - s\n",
    "\n",
    "        link = sorted(data.items(), key=lambda x: x[1])[0][0]\n",
    "        return link\n",
    "\n",
    "    def guess(self, word): # word input example: \"_ p p _ e \"\n",
    "        ###############################################\n",
    "        # Replace with your own \"guess\" function here #\n",
    "        ###############################################\n",
    "\n",
    "        # clean the word so that we strip away the space characters\n",
    "        # replace \"_\" with \".\" as \".\" indicates any character in regular expressions\n",
    "\n",
    "        guess_letter = predictor.guess_next_letter(word, self.guessed_letters)\n",
    "        self.guessed_letters.add(ord(guess_letter)-ord('a'))\n",
    "        \n",
    "        return guess_letter\n",
    "\n",
    "    ##########################################################\n",
    "    # You'll likely not need to modify any of the code below #\n",
    "    ##########################################################\n",
    "    \n",
    "    # def build_dictionary(self, dictionary_file_location):\n",
    "    #     text_file = open(dictionary_file_location,\"r\")\n",
    "    #     full_dictionary = text_file.read().splitlines()\n",
    "    #     text_file.close()\n",
    "    #     return full_dictionary\n",
    "                \n",
    "    def start_game(self, practice=True, verbose=True):\n",
    "        # reset guessed letters to empty set and current plausible dictionary to the full dictionary\n",
    "        self.guessed_letters = set()\n",
    "        # self.current_dictionary = self.full_dictionary\n",
    "                         \n",
    "        response = self.request(\"/new_game\", {\"practice\":practice})\n",
    "        if response.get('status')==\"approved\":\n",
    "            game_id = response.get('game_id')\n",
    "            word = response.get('word')\n",
    "            tries_remains = response.get('tries_remains')\n",
    "            if verbose:\n",
    "                print(\"Successfully start a new game! Game ID: {0}. # of tries remaining: {1}. Word: {2}.\".format(game_id, tries_remains, word))\n",
    "            while tries_remains>0:\n",
    "                # get guessed letter from user code\n",
    "                guess_letter = self.guess(word)\n",
    "                    \n",
    "                # append guessed letter to guessed letters field in hangman object\n",
    "                # self.guessed_letters.append(guess_letter)\n",
    "                if verbose:\n",
    "                    print(\"Guessing letter: {0}\".format(guess_letter))\n",
    "                    \n",
    "                try:    \n",
    "                    res = self.request(\"/guess_letter\", {\"request\":\"guess_letter\", \"game_id\":game_id, \"letter\":guess_letter})\n",
    "                except HangmanAPIError:\n",
    "                    print('HangmanAPIError exception caught on request.')\n",
    "                    continue\n",
    "                except Exception as e:\n",
    "                    print('Other exception caught on request.')\n",
    "                    raise e\n",
    "               \n",
    "                if verbose:\n",
    "                    print(\"Sever response: {0}\".format(res))\n",
    "                status = res.get('status')\n",
    "                tries_remains = res.get('tries_remains')\n",
    "                if status==\"success\":\n",
    "                    if verbose:\n",
    "                        print(\"Successfully finished game: {0}\".format(game_id))\n",
    "                    return True\n",
    "                elif status==\"failed\":\n",
    "                    reason = res.get('reason', '# of tries exceeded!')\n",
    "                    if verbose:\n",
    "                        print(\"Failed game: {0}. Because of: {1}\".format(game_id, reason))\n",
    "                    return False\n",
    "                elif status==\"ongoing\":\n",
    "                    word = res.get('word')\n",
    "        else:\n",
    "            if verbose:\n",
    "                print(\"Failed to start a new game\")\n",
    "        return status==\"success\"\n",
    "        \n",
    "    def my_status(self):\n",
    "        return self.request(\"/my_status\", {})\n",
    "    \n",
    "    def request(\n",
    "            self, path, args=None, post_args=None, method=None):\n",
    "        if args is None:\n",
    "            args = dict()\n",
    "        if post_args is not None:\n",
    "            method = \"POST\"\n",
    "\n",
    "        # Add `access_token` to post_args or args if it has not already been\n",
    "        # included.\n",
    "        if self.access_token:\n",
    "            # If post_args exists, we assume that args either does not exists\n",
    "            # or it does not need `access_token`.\n",
    "            if post_args and \"access_token\" not in post_args:\n",
    "                post_args[\"access_token\"] = self.access_token\n",
    "            elif \"access_token\" not in args:\n",
    "                args[\"access_token\"] = self.access_token\n",
    "\n",
    "        time.sleep(0.2)\n",
    "\n",
    "        num_retry, time_sleep = 50, 2\n",
    "        for it in range(num_retry):\n",
    "            try:\n",
    "                response = self.session.request(\n",
    "                    method or \"GET\",\n",
    "                    self.hangman_url + path,\n",
    "                    timeout=self.timeout,\n",
    "                    params=args,\n",
    "                    data=post_args,\n",
    "                    verify=False\n",
    "                )\n",
    "                break\n",
    "            except requests.HTTPError as e:\n",
    "                response = json.loads(e.read())\n",
    "                raise HangmanAPIError(response)\n",
    "            except requests.exceptions.SSLError as e:\n",
    "                if it + 1 == num_retry:\n",
    "                    raise\n",
    "                time.sleep(time_sleep)\n",
    "\n",
    "        headers = response.headers\n",
    "        if 'json' in headers['content-type']:\n",
    "            result = response.json()\n",
    "        elif \"access_token\" in parse_qs(response.text):\n",
    "            query_str = parse_qs(response.text)\n",
    "            if \"access_token\" in query_str:\n",
    "                result = {\"access_token\": query_str[\"access_token\"][0]}\n",
    "                if \"expires\" in query_str:\n",
    "                    result[\"expires\"] = query_str[\"expires\"][0]\n",
    "            else:\n",
    "                raise HangmanAPIError(response.json())\n",
    "        else:\n",
    "            raise HangmanAPIError('Maintype was not text, or querystring')\n",
    "\n",
    "        if result and isinstance(result, dict) and result.get(\"error\"):\n",
    "            raise HangmanAPIError(result)\n",
    "        return result\n",
    "    \n",
    "class HangmanAPIError(Exception):\n",
    "    def __init__(self, result):\n",
    "        self.result = result\n",
    "        self.code = None\n",
    "        try:\n",
    "            self.type = result[\"error_code\"]\n",
    "        except (KeyError, TypeError):\n",
    "            self.type = \"\"\n",
    "\n",
    "        try:\n",
    "            self.message = result[\"error_description\"]\n",
    "        except (KeyError, TypeError):\n",
    "            try:\n",
    "                self.message = result[\"error\"][\"message\"]\n",
    "                self.code = result[\"error\"].get(\"code\")\n",
    "                if not self.type:\n",
    "                    self.type = result[\"error\"].get(\"type\", \"\")\n",
    "            except (KeyError, TypeError):\n",
    "                try:\n",
    "                    self.message = result[\"error_msg\"]\n",
    "                except (KeyError, TypeError):\n",
    "                    self.message = result\n",
    "\n",
    "        Exception.__init__(self, self.message)"
   ]
  },
  {
   "cell_type": "markdown",
   "metadata": {},
   "source": [
    "# API Usage Examples"
   ]
  },
  {
   "cell_type": "markdown",
   "metadata": {},
   "source": [
    "## To start a new game:\n",
    "1. Make sure you have implemented your own \"guess\" method.\n",
    "2. Use the access_token that we sent you to create your HangmanAPI object. \n",
    "3. Start a game by calling \"start_game\" method.\n",
    "4. If you wish to test your function without being recorded, set \"practice\" parameter to 1.\n",
    "5. Note: You have a rate limit of 20 new games per minute. DO NOT start more than 20 new games within one minute."
   ]
  },
  {
   "cell_type": "code",
   "execution_count": 4,
   "metadata": {
    "jupyter": {
     "outputs_hidden": true
    }
   },
   "outputs": [],
   "source": [
    "api = HangmanAPI(access_token=\"\", timeout=2000)\n"
   ]
  },
  {
   "cell_type": "markdown",
   "metadata": {},
   "source": [
    "## Playing practice games:\n",
    "You can use the command below to play up to 100,000 practice games."
   ]
  },
  {
   "cell_type": "code",
   "execution_count": 5,
   "metadata": {
    "jupyter": {
     "outputs_hidden": true
    },
    "scrolled": true
   },
   "outputs": [
    {
     "name": "stdout",
     "output_type": "stream",
     "text": [
      "run 1000 practice games out of an allotted 100,000. practice success rate so far = 0.674\n"
     ]
    }
   ],
   "source": [
    "[total_practice_runs,total_recorded_runs,total_recorded_successes,total_practice_successes] = api.my_status()\n",
    "total_runs_tillnow, total_wins_tillnow = total_practice_runs, total_practice_successes\n",
    "for _ in range(1000):\n",
    "    api.start_game(practice=1,verbose=False)\n",
    "    [total_practice_runs,total_recorded_runs,total_recorded_successes,total_practice_successes] = api.my_status() # Get my game stats: (# of tries, # of wins)\n",
    "    practice_success_rate = (total_practice_successes - total_wins_tillnow) / (total_practice_runs - total_runs_tillnow)\n",
    "    print('run %d practice games out of an allotted 100,000. practice success rate so far = %.3f' % (total_practice_runs - total_runs_tillnow, practice_success_rate))\n"
   ]
  },
  {
   "cell_type": "code",
   "execution_count": 6,
   "metadata": {},
   "outputs": [
    {
     "name": "stdout",
     "output_type": "stream",
     "text": [
      "0.6612074502247912 2059 3114\n"
     ]
    }
   ],
   "source": [
    "[total_practice_runs,total_recorded_runs,total_recorded_successes,total_practice_successes] = api.my_status() # Get my game stats: (# of tries, # of wins)\n",
    "practice_success_rate = total_practice_successes / total_practice_runs\n",
    "print(practice_success_rate,total_practice_successes, total_practice_runs)"
   ]
  },
  {
   "cell_type": "markdown",
   "metadata": {},
   "source": [
    "## Playing recorded games:\n",
    "Please finalize your code prior to running the cell below. Once this code executes once successfully your submission will be finalized. Our system will not allow you to rerun any additional games.\n",
    "\n",
    "Please note that it is expected that after you successfully run this block of code that subsequent runs will result in the error message \"Your account has been deactivated\".\n",
    "\n",
    "Once you've run this section of the code your submission is complete. Please send us your source code via email."
   ]
  },
  {
   "cell_type": "code",
   "execution_count": 9,
   "metadata": {
    "jupyter": {
     "outputs_hidden": true
    }
   },
   "outputs": [
    {
     "name": "stdout",
     "output_type": "stream",
     "text": [
      "Playing  0  th game\n"
     ]
    },
    {
     "ename": "HangmanAPIError",
     "evalue": "{'error': 'Your account has been deactivated!'}",
     "output_type": "error",
     "traceback": [
      "\u001b[0;31m---------------------------------------------------------------------------\u001b[0m",
      "\u001b[0;31mHangmanAPIError\u001b[0m                           Traceback (most recent call last)",
      "Cell \u001b[0;32mIn[9], line 4\u001b[0m\n\u001b[1;32m      2\u001b[0m \u001b[38;5;28mprint\u001b[39m(\u001b[38;5;124m'\u001b[39m\u001b[38;5;124mPlaying \u001b[39m\u001b[38;5;124m'\u001b[39m, i, \u001b[38;5;124m'\u001b[39m\u001b[38;5;124m th game\u001b[39m\u001b[38;5;124m'\u001b[39m)\n\u001b[1;32m      3\u001b[0m \u001b[38;5;66;03m# Uncomment the following line to execute your final runs. Do not do this until you are satisfied with your submission\u001b[39;00m\n\u001b[0;32m----> 4\u001b[0m \u001b[43mapi\u001b[49m\u001b[38;5;241;43m.\u001b[39;49m\u001b[43mstart_game\u001b[49m\u001b[43m(\u001b[49m\u001b[43mpractice\u001b[49m\u001b[38;5;241;43m=\u001b[39;49m\u001b[38;5;241;43m0\u001b[39;49m\u001b[43m,\u001b[49m\u001b[43mverbose\u001b[49m\u001b[38;5;241;43m=\u001b[39;49m\u001b[38;5;28;43;01mFalse\u001b[39;49;00m\u001b[43m)\u001b[49m\n\u001b[1;32m      6\u001b[0m \u001b[38;5;66;03m# DO NOT REMOVE as otherwise the server may lock you out for too high frequency of requests\u001b[39;00m\n\u001b[1;32m      7\u001b[0m time\u001b[38;5;241m.\u001b[39msleep(\u001b[38;5;241m0.5\u001b[39m)\n",
      "Cell \u001b[0;32mIn[3], line 61\u001b[0m, in \u001b[0;36mHangmanAPI.start_game\u001b[0;34m(self, practice, verbose)\u001b[0m\n\u001b[1;32m     58\u001b[0m \u001b[38;5;28mself\u001b[39m\u001b[38;5;241m.\u001b[39mguessed_letters \u001b[38;5;241m=\u001b[39m \u001b[38;5;28mset\u001b[39m()\n\u001b[1;32m     59\u001b[0m \u001b[38;5;66;03m# self.current_dictionary = self.full_dictionary\u001b[39;00m\n\u001b[0;32m---> 61\u001b[0m response \u001b[38;5;241m=\u001b[39m \u001b[38;5;28;43mself\u001b[39;49m\u001b[38;5;241;43m.\u001b[39;49m\u001b[43mrequest\u001b[49m\u001b[43m(\u001b[49m\u001b[38;5;124;43m\"\u001b[39;49m\u001b[38;5;124;43m/new_game\u001b[39;49m\u001b[38;5;124;43m\"\u001b[39;49m\u001b[43m,\u001b[49m\u001b[43m \u001b[49m\u001b[43m{\u001b[49m\u001b[38;5;124;43m\"\u001b[39;49m\u001b[38;5;124;43mpractice\u001b[39;49m\u001b[38;5;124;43m\"\u001b[39;49m\u001b[43m:\u001b[49m\u001b[43mpractice\u001b[49m\u001b[43m}\u001b[49m\u001b[43m)\u001b[49m\n\u001b[1;32m     62\u001b[0m \u001b[38;5;28;01mif\u001b[39;00m response\u001b[38;5;241m.\u001b[39mget(\u001b[38;5;124m'\u001b[39m\u001b[38;5;124mstatus\u001b[39m\u001b[38;5;124m'\u001b[39m)\u001b[38;5;241m==\u001b[39m\u001b[38;5;124m\"\u001b[39m\u001b[38;5;124mapproved\u001b[39m\u001b[38;5;124m\"\u001b[39m:\n\u001b[1;32m     63\u001b[0m     game_id \u001b[38;5;241m=\u001b[39m response\u001b[38;5;241m.\u001b[39mget(\u001b[38;5;124m'\u001b[39m\u001b[38;5;124mgame_id\u001b[39m\u001b[38;5;124m'\u001b[39m)\n",
      "Cell \u001b[0;32mIn[3], line 163\u001b[0m, in \u001b[0;36mHangmanAPI.request\u001b[0;34m(self, path, args, post_args, method)\u001b[0m\n\u001b[1;32m    160\u001b[0m     \u001b[38;5;28;01mraise\u001b[39;00m HangmanAPIError(\u001b[38;5;124m'\u001b[39m\u001b[38;5;124mMaintype was not text, or querystring\u001b[39m\u001b[38;5;124m'\u001b[39m)\n\u001b[1;32m    162\u001b[0m \u001b[38;5;28;01mif\u001b[39;00m result \u001b[38;5;129;01mand\u001b[39;00m \u001b[38;5;28misinstance\u001b[39m(result, \u001b[38;5;28mdict\u001b[39m) \u001b[38;5;129;01mand\u001b[39;00m result\u001b[38;5;241m.\u001b[39mget(\u001b[38;5;124m\"\u001b[39m\u001b[38;5;124merror\u001b[39m\u001b[38;5;124m\"\u001b[39m):\n\u001b[0;32m--> 163\u001b[0m     \u001b[38;5;28;01mraise\u001b[39;00m HangmanAPIError(result)\n\u001b[1;32m    164\u001b[0m \u001b[38;5;28;01mreturn\u001b[39;00m result\n",
      "\u001b[0;31mHangmanAPIError\u001b[0m: {'error': 'Your account has been deactivated!'}"
     ]
    }
   ],
   "source": [
    "for i in range(1000):\n",
    "    print('Playing ', i, ' th game')\n",
    "    # Uncomment the following line to execute your final runs. Do not do this until you are satisfied with your submission\n",
    "    api.start_game(practice=0,verbose=False)\n",
    "    \n",
    "    # DO NOT REMOVE as otherwise the server may lock you out for too high frequency of requests\n",
    "    time.sleep(0.5)"
   ]
  },
  {
   "cell_type": "code",
   "execution_count": null,
   "metadata": {
    "jupyter": {
     "outputs_hidden": true
    }
   },
   "outputs": [],
   "source": []
  },
  {
   "cell_type": "markdown",
   "metadata": {},
   "source": [
    "## To check your game statistics\n",
    "1. Simply use \"my_status\" method.\n",
    "2. Returns your total number of games, and number of wins."
   ]
  },
  {
   "cell_type": "code",
   "execution_count": 10,
   "metadata": {
    "jupyter": {
     "outputs_hidden": true
    }
   },
   "outputs": [
    {
     "name": "stdout",
     "output_type": "stream",
     "text": [
      "1000 656\n",
      "overall success rate = 0.656\n"
     ]
    }
   ],
   "source": [
    "[total_practice_runs,total_recorded_runs,total_recorded_successes,total_practice_successes] = api.my_status() # Get my game stats: (# of tries, # of wins)\n",
    "success_rate = total_recorded_successes/total_recorded_runs\n",
    "print(total_recorded_runs, total_recorded_successes)\n",
    "print('overall success rate = %.3f' % success_rate)"
   ]
  },
  {
   "cell_type": "code",
   "execution_count": null,
   "metadata": {
    "jupyter": {
     "outputs_hidden": true
    }
   },
   "outputs": [],
   "source": []
  }
 ],
 "metadata": {
  "kernelspec": {
   "display_name": "Python 3",
   "language": "python",
   "name": "python3"
  },
  "language_info": {
   "codemirror_mode": {
    "name": "ipython",
    "version": 3
   },
   "file_extension": ".py",
   "mimetype": "text/x-python",
   "name": "python",
   "nbconvert_exporter": "python",
   "pygments_lexer": "ipython3",
   "version": "3.10.10"
  }
 },
 "nbformat": 4,
 "nbformat_minor": 4
}
