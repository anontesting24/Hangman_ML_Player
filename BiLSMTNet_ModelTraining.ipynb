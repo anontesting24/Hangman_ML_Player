{
 "cells": [
  {
   "cell_type": "code",
   "execution_count": 1,
   "id": "a638092c-763b-4f6d-b190-d01248eef954",
   "metadata": {},
   "outputs": [
    {
     "name": "stdout",
     "output_type": "stream",
     "text": [
      "Using : cuda\n"
     ]
    },
    {
     "name": "stderr",
     "output_type": "stream",
     "text": [
      "Epoch 1: 100%|██████████| 8904/8904 [27:57<00:00,  5.31it/s]\n"
     ]
    },
    {
     "name": "stdout",
     "output_type": "stream",
     "text": [
      "Epoch 1, Average Loss: 2.198186398382564, Test Accuracy: 0.642\n"
     ]
    },
    {
     "name": "stderr",
     "output_type": "stream",
     "text": [
      "Epoch 2: 100%|██████████| 8904/8904 [27:50<00:00,  5.33it/s]\n"
     ]
    },
    {
     "name": "stdout",
     "output_type": "stream",
     "text": [
      "Epoch 2, Average Loss: 2.0598500899950447, Test Accuracy: 0.688\n"
     ]
    },
    {
     "name": "stderr",
     "output_type": "stream",
     "text": [
      "Epoch 3: 100%|██████████| 8904/8904 [28:01<00:00,  5.30it/s]\n"
     ]
    },
    {
     "name": "stdout",
     "output_type": "stream",
     "text": [
      "Epoch 3, Average Loss: 2.023886770558914, Test Accuracy: 0.7\n"
     ]
    },
    {
     "name": "stderr",
     "output_type": "stream",
     "text": [
      "Epoch 4: 100%|██████████| 8904/8904 [28:14<00:00,  5.26it/s]\n"
     ]
    },
    {
     "name": "stdout",
     "output_type": "stream",
     "text": [
      "Epoch 4, Average Loss: 2.0031306301005123, Test Accuracy: 0.685\n"
     ]
    },
    {
     "name": "stderr",
     "output_type": "stream",
     "text": [
      "Epoch 5: 100%|██████████| 8904/8904 [28:09<00:00,  5.27it/s]\n"
     ]
    },
    {
     "name": "stdout",
     "output_type": "stream",
     "text": [
      "Epoch 5, Average Loss: 1.991385769704817, Test Accuracy: 0.715\n"
     ]
    },
    {
     "name": "stderr",
     "output_type": "stream",
     "text": [
      "Epoch 6: 100%|██████████| 8904/8904 [28:13<00:00,  5.26it/s]\n"
     ]
    },
    {
     "name": "stdout",
     "output_type": "stream",
     "text": [
      "Epoch 6, Average Loss: 1.9835298040619007, Test Accuracy: 0.684\n"
     ]
    },
    {
     "name": "stderr",
     "output_type": "stream",
     "text": [
      "Epoch 7: 100%|██████████| 8904/8904 [28:13<00:00,  5.26it/s]\n"
     ]
    },
    {
     "name": "stdout",
     "output_type": "stream",
     "text": [
      "Epoch 7, Average Loss: 1.9776660549351468, Test Accuracy: 0.689\n"
     ]
    },
    {
     "name": "stderr",
     "output_type": "stream",
     "text": [
      "Epoch 8: 100%|██████████| 8904/8904 [28:12<00:00,  5.26it/s]\n"
     ]
    },
    {
     "name": "stdout",
     "output_type": "stream",
     "text": [
      "Epoch 8, Average Loss: 1.9730854887123699, Test Accuracy: 0.669\n"
     ]
    },
    {
     "name": "stderr",
     "output_type": "stream",
     "text": [
      "Epoch 9: 100%|██████████| 8904/8904 [28:15<00:00,  5.25it/s]\n"
     ]
    },
    {
     "name": "stdout",
     "output_type": "stream",
     "text": [
      "Epoch 9, Average Loss: 1.9690984959336733, Test Accuracy: 0.709\n"
     ]
    },
    {
     "name": "stderr",
     "output_type": "stream",
     "text": [
      "Epoch 10: 100%|██████████| 8904/8904 [28:10<00:00,  5.27it/s]\n"
     ]
    },
    {
     "name": "stdout",
     "output_type": "stream",
     "text": [
      "Epoch 10, Average Loss: 1.9658560513486116, Test Accuracy: 0.701\n"
     ]
    }
   ],
   "source": [
    "import random\n",
    "import torch\n",
    "import torch.nn as nn\n",
    "import torch.optim as optim\n",
    "import numpy as np\n",
    "from tqdm import tqdm\n",
    "from collections import deque\n",
    "from string import ascii_lowercase\n",
    "from torch.utils.data import Dataset, DataLoader\n",
    "\n",
    "# Define constants\n",
    "device = torch.device('cuda' if torch.cuda.is_available() else 'cpu')\n",
    "print(f\"Using : {device}\")\n",
    "\n",
    "MAX_LENGTH = 25\n",
    "BATCH_SIZE = 4096  \n",
    "LEARNING_RATE = 1e-3\n",
    "UNGUESSED_CHAR = 27\n",
    "EMBEDDING_SIZE = 128\n",
    "\n",
    "char_to_idx = {char: i + 1 for i, char in enumerate(ascii_lowercase)}  # input is 1-26 for a-z, 27 for unguessed and 0 for padding\n",
    "char_to_idx['_'] = 27\n",
    "idx_to_char = {i: char for i, char in enumerate(ascii_lowercase)}  # output idx is 0-25 for a-z\n",
    "\n",
    "# Dataset class\n",
    "class HangmanDataset(Dataset):\n",
    "    def __init__(self, data):\n",
    "        self.word_tensors = data['arr_1']\n",
    "        self.guessed_flags = data['arr_2']\n",
    "        self.targets = data['arr_3']\n",
    "\n",
    "    def __len__(self):\n",
    "        return len(self.targets)\n",
    "\n",
    "    def __getitem__(self, idx):\n",
    "        word_tensor = torch.tensor(self.word_tensors[idx], dtype=torch.long)\n",
    "        guessed_flags = torch.tensor(self.guessed_flags[idx], dtype=torch.float32)\n",
    "        target = torch.tensor(self.targets[idx], dtype=torch.long)\n",
    "        return word_tensor, guessed_flags, target\n",
    "# Load data\n",
    "data = np.load(\"Training_Data.npz\")\n",
    "\n",
    "train_data = {key: data[key] for key in data}\n",
    "train_dataset = HangmanDataset(train_data)\n",
    "train_loader = DataLoader(train_dataset, batch_size=BATCH_SIZE, shuffle=True)\n",
    "\n",
    "\n",
    "# Model definition\n",
    "class BiLSTM_Network(nn.Module):\n",
    "    def __init__(self):\n",
    "        super(BiLSTM_Network, self).__init__()\n",
    "        self.embedding = nn.Embedding(num_embeddings=28, embedding_dim=EMBEDDING_SIZE, padding_idx=0)\n",
    "        self.bilstm = nn.LSTM(input_size=EMBEDDING_SIZE, hidden_size=256, num_layers=4, dropout=0.01, batch_first=True, bidirectional=True)\n",
    "        self.fcbilstm = nn.Sequential(\n",
    "            nn.Linear(256 * 2, 64),\n",
    "            nn.ReLU(),\n",
    "            nn.Dropout(0.01)\n",
    "        )\n",
    "        self.flags_dense = nn.Sequential(\n",
    "            nn.Linear(26, 32),\n",
    "            nn.ReLU(),\n",
    "            nn.Dropout(0.01)\n",
    "        )\n",
    "        self.combined_dense = nn.Sequential(\n",
    "            nn.Linear(64 + 32, 26)\n",
    "        )\n",
    "\n",
    "    def forward(self, word, flags):\n",
    "        embedded = self.embedding(word)\n",
    "        bilstm_out, _ = self.bilstm(embedded)\n",
    "        lastbilstm_out = bilstm_out[:, -1, :]\n",
    "        bilstm_fcout = self.fcbilstm(lastbilstm_out)\n",
    "        flags_out = self.flags_dense(flags)\n",
    "        # flags_out = flags_out.view(-1, 32)  # Make sure it has shape [batch_size, 32]\n",
    "\n",
    "        # print(\"bilstm_fcout shape:\", bilstm_fcout.shape)\n",
    "        # print(\"flags_out shape:\", flags_out.shape)\n",
    "        \n",
    "        combined = torch.cat((bilstm_fcout, flags_out), dim=1)\n",
    "        return self.combined_dense(combined)\n",
    "\n",
    "\n",
    "# Initialize model\n",
    "model = BiLSTM_Network()\n",
    "optimizer = optim.Adam(model.parameters(), lr=LEARNING_RATE, weight_decay=1e-5)\n",
    "loss_fn = nn.CrossEntropyLoss()\n",
    "model.to(device)\n",
    "\n",
    "# Testing function\n",
    "with open(\"cleaned_word_list.txt\", 'r') as file:\n",
    "    WORDS = file.read().splitlines()\n",
    "\n",
    "def test_model(model):\n",
    "\n",
    "    test_words = random.sample(WORDS, 1000)\n",
    "    model.eval()\n",
    "    total_pass = 0\n",
    "    with torch.no_grad():\n",
    "        for word in test_words:\n",
    "            attempt = 0\n",
    "            input_ = ['_'] * len(word)\n",
    "            word_char_set = set(word)\n",
    "            predicted_chars = set()  # Keep track of chars we've already guessed\n",
    "            input_tensor = torch.tensor([[char_to_idx[char] for char in input_]],dtype=torch.long)\n",
    "            input_tensor = torch.nn.functional.pad(input_tensor,(0, MAX_LENGTH - len(input_tensor[0])), value=0).to(device)\n",
    "            guessed_flags = torch.tensor([[0.0 for i in range(26)]], dtype=torch.float32).to(device)\n",
    "            \n",
    "            \n",
    "            while attempt < 6:\n",
    "                \n",
    "                output = model(input_tensor,guessed_flags)\n",
    "                \n",
    "                # Get probabilities and sort them\n",
    "                probs = torch.softmax(output, dim=1)\n",
    "                sorted_probs, sorted_indices = torch.sort(probs, dim=1, descending=True)\n",
    "                \n",
    "                # Find the highest probability char that hasn't been guessed yet\n",
    "                output_char = None\n",
    "                for idx in sorted_indices[0]:\n",
    "                    char = idx_to_char[idx.item()]\n",
    "                    if char not in predicted_chars:\n",
    "                        output_char = char\n",
    "                        guessed_flags[0,idx]=1.0\n",
    "                        break\n",
    "                \n",
    "                if output_char is None:  # If we've tried all chars\n",
    "                    break\n",
    "                    \n",
    "                predicted_chars.add(output_char)\n",
    "                # print(input_, \"-->\", output_char)\n",
    "                \n",
    "                if output_char in word_char_set:\n",
    "                    # replace the '_' with the output_char at all the positions where the output_char is in the word\n",
    "                    for i in range(len(word)):\n",
    "                        if word[i] == output_char:\n",
    "                            input_tensor[0,i] = char_to_idx[output_char]\n",
    "                            input_[i] = output_char\n",
    "                    word_char_set.remove(output_char)\n",
    "                    if len(word_char_set) == 0:  # Word completed\n",
    "                        break\n",
    "                else:\n",
    "                    attempt += 1\n",
    "                    \n",
    "            if len(word_char_set) == 0:\n",
    "                total_pass += 1\n",
    "    model.train()\n",
    "    return total_pass / len(test_words)\n",
    "\n",
    "# Training loop\n",
    "NUM_EPOCHS = 10\n",
    "for epoch in range(NUM_EPOCHS):\n",
    "    avg_loss = 0\n",
    "    for i, (word_tensor, guessed_flags, target) in tqdm(enumerate(train_loader), total=len(train_loader), desc=f\"Epoch {epoch+1}\"):\n",
    "        word_tensor = word_tensor.to(device)\n",
    "        guessed_flags = guessed_flags.to(device)\n",
    "        target = target.to(device)\n",
    "\n",
    "        optimizer.zero_grad()\n",
    "        output = model(word_tensor, guessed_flags)\n",
    "        loss = loss_fn(output, target)\n",
    "        loss.backward()\n",
    "        optimizer.step()\n",
    "        avg_loss += loss.item()\n",
    "\n",
    "    avg_loss /= len(train_loader)\n",
    "    test_acc = test_model(model)\n",
    "\n",
    "    print(f\"Epoch {epoch+1}, Average Loss: {avg_loss}, Test Accuracy: {test_acc}\")\n",
    "\n",
    "    if epoch % 1 == 0:\n",
    "        torch.save(model.state_dict(), f\"model_BiLSTM{epoch+1}.pth\")\n",
    "\n"
   ]
  },
  {
   "cell_type": "code",
   "execution_count": null,
   "id": "495b92bb-49c0-47ea-bda1-00925680428e",
   "metadata": {},
   "outputs": [],
   "source": []
  }
 ],
 "metadata": {
  "kernelspec": {
   "display_name": "Python 3 (ipykernel)",
   "language": "python",
   "name": "python3"
  },
  "language_info": {
   "codemirror_mode": {
    "name": "ipython",
    "version": 3
   },
   "file_extension": ".py",
   "mimetype": "text/x-python",
   "name": "python",
   "nbconvert_exporter": "python",
   "pygments_lexer": "ipython3",
   "version": "3.10.12"
  }
 },
 "nbformat": 4,
 "nbformat_minor": 5
}
