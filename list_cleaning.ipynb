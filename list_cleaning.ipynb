{
 "cells": [
  {
   "cell_type": "code",
   "execution_count": 1,
   "id": "25c2256a-aac9-41eb-ba7e-df77d429fbde",
   "metadata": {},
   "outputs": [],
   "source": [
    "import numpy as np\n",
    "import pandas as pd\n",
    "import os\n",
    "import random\n",
    "random.seed(16)\n",
    "\n",
    "file_path='your_word_list.txt' # replace with your own word list\n",
    "\n",
    "with open(file_path, 'r') as f:\n",
    "    words = f.read().splitlines()\n",
    "random.shuffle(words)"
   ]
  },
  {
   "cell_type": "code",
   "execution_count": 2,
   "id": "1d31406d-dfa4-4164-a51e-962468e904f0",
   "metadata": {},
   "outputs": [],
   "source": [
    "removed_list=[]\n",
    "minlen=2\n",
    "maxlen=26\n",
    "minw='a'\n",
    "removed_list=[]\n",
    "for i in words:\n",
    "    if len(i)>minlen and len(i)<maxlen:\n",
    "        # print(i)\n",
    "        removed_list.append(i)\n",
    "    "
   ]
  },
  {
   "cell_type": "code",
   "execution_count": 3,
   "id": "e79856d3-f7f6-43e0-8f1e-31c1d2ae33e5",
   "metadata": {},
   "outputs": [],
   "source": [
    "minlen=10\n",
    "minw='a'\n",
    "for i in removed_list:\n",
    "    if minlen>=len(i):\n",
    "        minlen=len(i)\n",
    "        minw=i"
   ]
  },
  {
   "cell_type": "code",
   "execution_count": 4,
   "id": "7145db01-5245-4336-8d1f-9f28cea41106",
   "metadata": {},
   "outputs": [
    {
     "data": {
      "text/plain": [
       "227014"
      ]
     },
     "execution_count": 4,
     "metadata": {},
     "output_type": "execute_result"
    }
   ],
   "source": [
    "len(removed_list)"
   ]
  },
  {
   "cell_type": "code",
   "execution_count": 5,
   "id": "4222612d-21d9-46f4-b3d2-643c1a256567",
   "metadata": {},
   "outputs": [],
   "source": [
    "def count_unique_letters(word):\n",
    "    word = word.lower()\n",
    "    unique_letters = set(word)\n",
    "    return len(unique_letters)"
   ]
  },
  {
   "cell_type": "code",
   "execution_count": 6,
   "id": "68ad583b-bee1-46b7-afcb-c901f3ff98be",
   "metadata": {},
   "outputs": [
    {
     "name": "stdout",
     "output_type": "stream",
     "text": [
      "226110\n"
     ]
    }
   ],
   "source": [
    "morethan2u=[]\n",
    "for i in removed_list:\n",
    "    if count_unique_letters(i)>1:\n",
    "        morethan2u.append(i)\n",
    "len(morethan2u)\n",
    "\n",
    "filtered_words = [word for word in morethan2u if any(letter in 'aeiouy' for letter in word)]\n",
    "print(len(filtered_words))\n",
    "def save_words_to_file(words, filename):\n",
    "    with open(filename, 'w') as file:\n",
    "        for word in words:\n",
    "            file.write(f\"{word}\\n\")\n",
    "\n",
    "save_words_to_file(filtered_words,'cleaned_word_list.txt')"
   ]
  },
  {
   "cell_type": "code",
   "execution_count": null,
   "id": "ce44951c",
   "metadata": {},
   "outputs": [],
   "source": []
  }
 ],
 "metadata": {
  "kernelspec": {
   "display_name": "Python 3",
   "language": "python",
   "name": "python3"
  },
  "language_info": {
   "codemirror_mode": {
    "name": "ipython",
    "version": 3
   },
   "file_extension": ".py",
   "mimetype": "text/x-python",
   "name": "python",
   "nbconvert_exporter": "python",
   "pygments_lexer": "ipython3",
   "version": "3.10.10"
  }
 },
 "nbformat": 4,
 "nbformat_minor": 5
}
