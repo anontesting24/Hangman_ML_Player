{
  "cells": [
    {
      "cell_type": "code",
      "execution_count": null,
      "metadata": {
        "colab": {
          "base_uri": "https://localhost:8080/"
        },
        "id": "s1TkdQ6d5oeM",
        "outputId": "d58e0b21-12f8-4b41-ee14-ff0aeedb6c5e"
      },
      "outputs": [
        {
          "name": "stderr",
          "output_type": "stream",
          "text": [
            "Generating Data: 100%|██████████| 5000000/5000000 [12:53<00:00, 6467.10it/s]\n"
          ]
        }
      ],
      "source": [
        "import random\n",
        "import string\n",
        "import numpy as np\n",
        "import pandas as pd\n",
        "from collections import deque, Counter, defaultdict\n",
        "from tqdm import tqdm\n",
        "\n",
        "random.seed(24)\n",
        "\n",
        "# Hyperparameters\n",
        "MAX_LENGTH = 25\n",
        "MAX_LIVES = 6\n",
        "BIAS = 0.6\n",
        "TARGET_UPDATE_FREQ = 1\n",
        "TRAIN_FREQ = 40\n",
        "UNGUESSED_CHAR = 27\n",
        "PADDING_CHAR = 0\n",
        "\n",
        "training_data_secretword = []\n",
        "training_data_intguessed_word = []\n",
        "training_data_guessed_letters_flags = []\n",
        "training_data_action = []\n",
        "\n",
        "with open('cleaned_word_list.txt', 'r') as f:\n",
        "    WORDS = f.read().splitlines()\n",
        "\n",
        "def rank_letters_by_frequency(words, min_len=3, max_len=25):\n",
        "    letter_counts = defaultdict(Counter)\n",
        "    for word in words:\n",
        "        word_len = len(word)\n",
        "        if min_len <= word_len <= max_len:\n",
        "            letter_counts[word_len].update(set(word))\n",
        "\n",
        "    return dict(letter_counts)\n",
        "\n",
        "letter_freqs = rank_letters_by_frequency(WORDS)\n",
        "\n",
        "def weighted_random_choice(ug_letters, length):\n",
        "\n",
        "    # Filter frequencies for only unguessed letters\n",
        "    weights = [letter_freqs[length][letter] for letter in ug_letters]\n",
        "    return random.choices(list(ug_letters), weights=weights, k=1)[0]\n",
        "\n",
        "\n",
        "\n",
        "\n",
        "# Hangman Environment\n",
        "class HangmanEnv:\n",
        "    def __init__(self, words):\n",
        "        self.words = words\n",
        "        self.reset()\n",
        "\n",
        "    def reset(self):\n",
        "        self.secret_word = random.choice(self.words)\n",
        "        self.length_word= len(self.secret_word)\n",
        "        self.guessed_word = ['_'] * self.length_word\n",
        "        self.intguessed_word = [27]* self.length_word\n",
        "        self.intguessed_word = np.pad(self.intguessed_word, (0, 25 - len(self.intguessed_word)), 'constant', constant_values=0)\n",
        "        self.lives = MAX_LIVES\n",
        "        self.guessed_letters = set()\n",
        "        self.guessed_letters_flags= np.zeros(26, dtype = int)\n",
        "        self.correct_guesses = Counter(self.secret_word)\n",
        "        self.unguessed_letters = set(string.ascii_lowercase)\n",
        "        return self._get_state()\n",
        "\n",
        "    def step(self, action):\n",
        "        letter = action\n",
        "        reward = 0\n",
        "        done = False\n",
        "\n",
        "        if letter in self.correct_guesses:\n",
        "            # Add to training data BEFORE updating the word state\n",
        "            # training_data.append([self.secret_word, self.guessed_word.copy(), self.guessed_letters.copy(), letter])\n",
        "            # training_data.append([self.secret_word, np.array(self.intguessed_word.copy()), np.array(self.guessed_letters_flags.copy()), ord(letter)-97])\n",
        "\n",
        "            training_data_secretword.append(self.secret_word)\n",
        "            training_data_intguessed_word.append(self.intguessed_word.copy())\n",
        "            training_data_guessed_letters_flags.append(self.guessed_letters_flags.copy())\n",
        "            training_data_action.append(ord(letter)-97)\n",
        "\n",
        "\n",
        "            for i, char in enumerate(self.secret_word):\n",
        "                if char == letter:\n",
        "                    reward += 1.0\n",
        "                    self.guessed_word[i] = letter\n",
        "                    self.intguessed_word[i] = ord(letter) - 96\n",
        "            del self.correct_guesses[letter]\n",
        "        else:\n",
        "            self.lives -= 1\n",
        "            reward -= 1.0\n",
        "\n",
        "        self.unguessed_letters.remove(letter)\n",
        "        self.guessed_letters.add(letter)\n",
        "        self.guessed_letters_flags[ord(letter)-97]=1\n",
        "\n",
        "        if '_' not in self.guessed_word:\n",
        "            reward += 6.0\n",
        "            done = True\n",
        "        elif self.lives == 0:\n",
        "            reward -= 6.0\n",
        "            done = True\n",
        "\n",
        "        return self._get_state(), reward, done\n",
        "\n",
        "    def _get_state(self):\n",
        "        # Convert guessed_word to a tensor of integers\n",
        "        return self.secret_word, self.guessed_letters, self.correct_guesses.copy(), self.unguessed_letters\n",
        "\n",
        "\n",
        "# DQN Agent\n",
        "class DQNAgent:\n",
        "    def __init__(self):\n",
        "        self.step_count = 0\n",
        "        self.train_count = 0\n",
        "        self.vowels=set('aeiouy')\n",
        "\n",
        "    def select_action(self, state):\n",
        "        self.step_count += 1\n",
        "        secret_word, guessed_flags, ug_correct_guesses, ug_letters = state\n",
        "        ug_correct_guesses=list(ug_correct_guesses.elements())\n",
        "        if self.step_count==1:\n",
        "            possible_guesses=[i for i in ug_correct_guesses if i in self.vowels]\n",
        "            return random.choice(possible_guesses)\n",
        "\n",
        "        if random.random() < BIAS:\n",
        "            return random.choice(ug_correct_guesses)\n",
        "        return weighted_random_choice(ug_letters, len(secret_word)) # Consider using probability distribution of letter occurences for random choice\n",
        "\n",
        "# Training Loop\n",
        "def train_episodes(env, agent, num_episodes=5000000):\n",
        "    for episode in tqdm(range(num_episodes), desc=\"Generating Data\"):\n",
        "        agent.step_count=0\n",
        "        state = env.reset()\n",
        "        total_reward = 0\n",
        "        done = False\n",
        "\n",
        "        while not done:\n",
        "            action = agent.select_action(state)\n",
        "            next_state, reward, done = env.step(action)\n",
        "            state = next_state\n",
        "\n",
        "# Load Words and Start Training\n",
        "\n",
        "\n",
        "env = HangmanEnv(WORDS)\n",
        "agent = DQNAgent()\n",
        "train_episodes(env, agent)\n"
      ]
    },
    {
      "cell_type": "code",
      "execution_count": null,
      "metadata": {
        "colab": {
          "base_uri": "https://localhost:8080/"
        },
        "id": "BO7TdVZ2pwD7",
        "outputId": "965f0b94-c428-4b23-9999-4eae8db78a36"
      },
      "outputs": [
        {
          "data": {
            "text/plain": [
              "32538887"
            ]
          },
          "execution_count": 2,
          "metadata": {},
          "output_type": "execute_result"
        }
      ],
      "source": [
        "len(training_data_secretword)"
      ]
    },
    {
      "cell_type": "code",
      "execution_count": null,
      "metadata": {
        "colab": {
          "base_uri": "https://localhost:8080/"
        },
        "id": "O6wFiRnWpyD6",
        "outputId": "60be25a7-a08e-4960-8b54-cf2a26709645"
      },
      "outputs": [
        {
          "name": "stdout",
          "output_type": "stream",
          "text": [
            "['overconfute', 'overconfute', 'overconfute']\n",
            "[array([27, 27, 27, 27, 27, 27, 27, 27, 27, 27, 27,  0,  0,  0,  0,  0,  0,\n",
            "        0,  0,  0,  0,  0,  0,  0,  0]), array([27, 27, 27, 27, 27, 27, 27, 27, 21, 27, 27,  0,  0,  0,  0,  0,  0,\n",
            "        0,  0,  0,  0,  0,  0,  0,  0]), array([27, 22, 27, 27, 27, 27, 27, 27, 21, 27, 27,  0,  0,  0,  0,  0,  0,\n",
            "        0,  0,  0,  0,  0,  0,  0,  0])]\n",
            "[array([0, 0, 0, 0, 0, 0, 0, 0, 0, 0, 0, 0, 0, 0, 0, 0, 0, 0, 0, 0, 0, 0,\n",
            "       0, 0, 0, 0]), array([0, 0, 0, 0, 0, 0, 0, 0, 0, 0, 0, 0, 0, 0, 0, 0, 0, 0, 0, 0, 1, 0,\n",
            "       0, 0, 0, 0]), array([0, 0, 0, 0, 0, 0, 0, 0, 0, 0, 0, 0, 0, 0, 0, 0, 0, 0, 0, 0, 1, 1,\n",
            "       0, 0, 0, 0])]\n",
            "[20, 21, 14]\n"
          ]
        }
      ],
      "source": [
        "idx=3\n",
        "print(training_data_secretword[:idx])\n",
        "print(training_data_intguessed_word[:idx])\n",
        "print(training_data_guessed_letters_flags[:idx])\n",
        "print(training_data_action[:idx])\n"
      ]
    },
    {
      "cell_type": "code",
      "execution_count": null,
      "metadata": {
        "colab": {
          "base_uri": "https://localhost:8080/"
        },
        "id": "JH8fv9Wy60Ia",
        "outputId": "62e2d440-7368-4351-bc29-f239d8dfbe6b"
      },
      "outputs": [
        {
          "name": "stdout",
          "output_type": "stream",
          "text": [
            "<U25\n",
            "int64\n",
            "int64\n",
            "int64\n"
          ]
        }
      ],
      "source": [
        "training_data_secretword_np = np.array(training_data_secretword)\n",
        "training_data_intguessed_word_np = np.array(training_data_intguessed_word)\n",
        "training_data_guessed_letters_flags_np = np.array(training_data_guessed_letters_flags)\n",
        "training_data_action_np = np.array(training_data_action)\n",
        "\n",
        "print(training_data_secretword_np.dtype)\n",
        "print(training_data_intguessed_word_np.dtype)\n",
        "print(training_data_guessed_letters_flags_np.dtype)\n",
        "print(training_data_action_np.dtype)"
      ]
    },
    {
      "cell_type": "code",
      "execution_count": null,
      "metadata": {
        "colab": {
          "base_uri": "https://localhost:8080/"
        },
        "id": "BcDFI6xn60Fi",
        "outputId": "4598c7e2-3a2a-4c49-db3b-45dbc37e52a5"
      },
      "outputs": [
        {
          "name": "stdout",
          "output_type": "stream",
          "text": [
            "Successfully saved!\n"
          ]
        }
      ],
      "source": [
        "np.savez_compressed('Training_Data.npz', training_data_secretword_np, training_data_intguessed_word_np, training_data_guessed_letters_flags_np, training_data_action_np)\n",
        "print(\"Successfully saved!\")"
      ]
    },
    {
      "cell_type": "code",
      "execution_count": null,
      "metadata": {
        "id": "LvApE8pOHPoT"
      },
      "outputs": [],
      "source": [
        "secret_word_set = set(training_data_secretword)"
      ]
    },
    {
      "cell_type": "code",
      "execution_count": null,
      "metadata": {
        "colab": {
          "base_uri": "https://localhost:8080/"
        },
        "id": "2gW77swgHV2G",
        "outputId": "f3024654-a4ce-4d98-f175-352865f5eba1"
      },
      "outputs": [
        {
          "data": {
            "text/plain": [
              "226110"
            ]
          },
          "execution_count": 7,
          "metadata": {},
          "output_type": "execute_result"
        }
      ],
      "source": [
        "len(secret_word_set)"
      ]
    },
    {
      "cell_type": "code",
      "execution_count": null,
      "metadata": {
        "colab": {
          "base_uri": "https://localhost:8080/"
        },
        "id": "sKf8dLsKHXn8",
        "outputId": "f40c6112-25b5-4b61-c75b-bb944647021f"
      },
      "outputs": [
        {
          "data": {
            "text/plain": [
              "226110"
            ]
          },
          "execution_count": 8,
          "metadata": {},
          "output_type": "execute_result"
        }
      ],
      "source": [
        "len(WORDS)"
      ]
    },
    {
      "cell_type": "code",
      "execution_count": null,
      "metadata": {
        "id": "joMtW4thHh0g"
      },
      "outputs": [],
      "source": []
    }
  ],
  "metadata": {
    "colab": {
      "machine_shape": "hm",
      "provenance": []
    },
    "kernelspec": {
      "display_name": "Python 3",
      "name": "python3"
    },
    "language_info": {
      "name": "python"
    }
  },
  "nbformat": 4,
  "nbformat_minor": 0
}
